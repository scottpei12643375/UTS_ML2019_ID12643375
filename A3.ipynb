{
  "nbformat": 4,
  "nbformat_minor": 0,
  "metadata": {
    "colab": {
      "name": "A3.ipynb",
      "provenance": [],
      "include_colab_link": true
    },
    "kernelspec": {
      "name": "python3",
      "display_name": "Python 3"
    }
  },
  "cells": [
    {
      "cell_type": "markdown",
      "metadata": {
        "id": "view-in-github",
        "colab_type": "text"
      },
      "source": [
        "<a href=\"https://colab.research.google.com/github/scottpei12643375/UTS_ML2019_ID12643375/blob/master/A3.ipynb\" target=\"_parent\"><img src=\"https://colab.research.google.com/assets/colab-badge.svg\" alt=\"Open In Colab\"/></a>"
      ]
    },
    {
      "cell_type": "code",
      "metadata": {
        "id": "gQ3B_1_YDcAY",
        "colab_type": "code",
        "colab": {}
      },
      "source": [
        "Report is based on “Question 1”"
      ],
      "execution_count": 0,
      "outputs": []
    },
    {
      "cell_type": "code",
      "metadata": {
        "id": "ESJ7TFma-UT2",
        "colab_type": "code",
        "colab": {}
      },
      "source": [
        "Introduction"
      ],
      "execution_count": 0,
      "outputs": []
    },
    {
      "cell_type": "markdown",
      "metadata": {
        "id": "I7e90eqSD8On",
        "colab_type": "text"
      },
      "source": [
        "The topic is focus on how a data analyst which from polling organisation change users’ support by messages that collect from social media. Social media is becoming more popular and advanced, people often communicate each other and browse the news on it. This report will discuss three challenges on how to predict users convert to change their support and its ethical issue and social consequence."
      ]
    },
    {
      "cell_type": "code",
      "metadata": {
        "id": "KirMNNHj-XYv",
        "colab_type": "code",
        "colab": {}
      },
      "source": [
        "Challenges"
      ],
      "execution_count": 0,
      "outputs": []
    },
    {
      "cell_type": "markdown",
      "metadata": {
        "id": "fxv7yF6H-c2X",
        "colab_type": "text"
      },
      "source": [
        "People often interest a service that can give a great feedback to them. Social media customer service can help develop relationships and protect brand’s reputation (Christina 2019). Social media customer service stats are one of important challenges since people want to interact with their brands to provide social customer support, and customer satisfaction is the focus of customer service. Christina (2019) provides some statistics which show how important to offer social media customer service solutions. It has about 67% of customers have used brand’s live chat, app or texting to contact with customer services. And over 150 million people contact with business through Instagram Direct every month. Moreover, about 81% of users which they did not receive a reply from online customers service they do not recommend that business to their friends. When users can be fixed their problems or questions by online customer services, they can be more trust and actively fill out the questionnaire or feedback on it. Hence, collecting online customers service information is a significant development for any business and it can make users more support this brand."
      ]
    },
    {
      "cell_type": "markdown",
      "metadata": {
        "id": "TqeUJDOk-dxM",
        "colab_type": "text"
      },
      "source": [
        "If people want to support a product or a business, they must measure how much benefits that they can get from it. So, if an organisation wants to transform the users’ bad impression to good, they should have a mature system and perfect introduction on advantages. A challenge is focus on how organisations can attract people's attention. Lexie (2017) states that a business should choose the right platform to share the right content. It depends on the customers and the content of business. When business create a customer service account on the platform, it can easily communicate with customers online and discuss the related products questions. An example is YouTube and it has the significant content which are videos. In addition, businesses should have an encourage engagement activity (Lexie 2017). When businesses can encourage interaction with users, they can collect customers’ interests and publish content that people want to ask the questions and read. Trying to utilize social capability to promote and interact with customers. However, it can not to over-promote products or content. Lexie (2017) points out that lots of businesses are trying to promote their brand on social media like regular advertising, but most of customers do not like attend advertising lots of times. They are interest in the content that people will enjoy and want to see. Hence, businesses can promote their brand but do not sell too hard. Moreover, visual content works well on social media. Especially video content, is an ideal choice to attract attention and convey personality and passion to customers (Lexie 2017). When people scroll through social feeds, visual content stands out. So, they are more likely to view and participate it. And, it allows business to show the content more than a regular post without taking up too much space. Getting the best response when create fun and narrative-driven videos."
      ]
    },
    {
      "cell_type": "markdown",
      "metadata": {
        "id": "kWWzg33K-glG",
        "colab_type": "text"
      },
      "source": [
        "First main point for all social media platforms is meet users’ tastes and preferences. This requirement makes social media need to become versatility and it is another challenger on how customers can have a support attitude on social media. Jason (2013) presents that social media can be used as a tool for some parts which are Customer Service, Market Research, HR, Networking, Target Marketing and Selling. When social media as a customer service tool, customers they like to ask questions about company's products, business hours and even complaints on social media. Their problems and complaints are public, which can make some companies feel scared. And the key point is to deal with all customer service issues in a timely manner. During marketing research tool, businesses should ask questions and conduct polls on social media. Asking customers if business want to know their needs, feedback of new products/services and use social media as a tool to collect important statistics and opinions (Jason 2013). In networking tool, using social media to connect with industry leaders to stay on top of the field. Similarly, through the international network, businesses will enrich their learning experience by understanding the various perspectives, experiences and perspectives from various cultures and people (Jason 2013). For HR tool, creating closed groups for businesses’ employees and use \"social media\" as a tool for internal communication. Gather employee feedback on new products/services and listen to their opinions on the strengths and weaknesses of the business (Jason 2013). Focusing on targeting tool, using the various search features on each social media platform to identify potential customers and customers. Target people and companies based on business existing customer base, targeting by geographic location, demographics and lifestyle (Jason 2013). Selling is the main goal of any business, but on social media, it should be the last of a series of stages. Publishing new products or services, special offers and discounts on social media, but limit them to around 20% of overall post. Trying to understand the demographics of users on each social media platform and customize the message for each audience (Jason 2013)."
      ]
    },
    {
      "cell_type": "code",
      "metadata": {
        "id": "22ezBRK--jET",
        "colab_type": "code",
        "colab": {}
      },
      "source": [
        "Ethical issue and social consequence"
      ],
      "execution_count": 0,
      "outputs": []
    },
    {
      "cell_type": "markdown",
      "metadata": {
        "id": "-7p7pCP1-kSC",
        "colab_type": "text"
      },
      "source": [
        "For ethical issue on these three challenges, it has a main ethical issue which is when businesses post their content or information on social media, some of users they do not interest in it or they really dislike advertising when they are doing other things. To fix this problem, businesses do not need to strong demand all users to use social media until advertising finish, it should have an exit button on advertising or a tip like “Never show it again”. It can also give a good feeling to all users."
      ]
    },
    {
      "cell_type": "markdown",
      "metadata": {
        "id": "rB18gsiI-ljm",
        "colab_type": "text"
      },
      "source": [
        "When social media become more perfectly, people might contact each other online. It can be more convenient, but it reduces the times that people going out to communicate face to face. Lots of experience from communication or social skills are coming from talking face to face, so it would be a problem on social consequence."
      ]
    },
    {
      "cell_type": "code",
      "metadata": {
        "id": "ls2-7kKF-rFN",
        "colab_type": "code",
        "colab": {}
      },
      "source": [
        "Conclusion"
      ],
      "execution_count": 0,
      "outputs": []
    },
    {
      "cell_type": "markdown",
      "metadata": {
        "id": "mWmEJpNm-sIE",
        "colab_type": "text"
      },
      "source": [
        "It has three challenges on how make people become more support businesses on social media. Efficient online customer service is one of important point that can fix users’ questions and make users have a better feeling. In addition, businesses have a right social media platform to post related information can make users more comfortable. Businesses cannot over-promote their information and make users feel antipathy. Moreover, every platform can have variety tools to focusing and it should depend on the customers’ preferences."
      ]
    },
    {
      "cell_type": "code",
      "metadata": {
        "id": "nK9_vlBW-tf4",
        "colab_type": "code",
        "colab": {}
      },
      "source": [
        "References"
      ],
      "execution_count": 0,
      "outputs": []
    },
    {
      "cell_type": "markdown",
      "metadata": {
        "id": "OuR5qHkG-vBY",
        "colab_type": "text"
      },
      "source": [
        "Christina, N. 2019, ‘Social Media Customer Service: Everything You Need to Do it Well’, Hootsuite, viewed 8 October 2019, <https://blog.hootsuite.com/social-media-customer-service/>."
      ]
    },
    {
      "cell_type": "markdown",
      "metadata": {
        "id": "14O7eeBn-wB2",
        "colab_type": "text"
      },
      "source": [
        "Jason, K. 2013, ‘The Versatility of Social Media’, BUSINESS 2 COMMUNITY, viewed 9 October 2019, <https://www.business2community.com/social-media/versatility-social-media-0630765>."
      ]
    },
    {
      "cell_type": "markdown",
      "metadata": {
        "id": "i64j7zdv-y1n",
        "colab_type": "text"
      },
      "source": [
        "Lexie, L. 2017, ‘8 Effective Ways to Promote Your Business on Social Media’, BusinessWest, viewed 9 October 2019, <https://www.businesswest.co.uk/blog/8-effective-ways-promote-your-business-social-media>."
      ]
    }
  ]
}